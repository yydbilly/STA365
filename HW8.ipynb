{
 "cells": [
  {
   "cell_type": "markdown",
   "id": "bffc8b64-90ff-4df1-adbf-5322dbe8de98",
   "metadata": {},
   "source": [
    "1. For all the parameters, we need to randomly pick a chain and randomly pick a draw from the chosen chain. Then, these are defined mixture distribution. Finally, we need to draw from this mixture distribution and do these steps for n times."
   ]
  },
  {
   "cell_type": "markdown",
   "id": "7d44619c-b21f-48cb-8f45-2abafcb2b186",
   "metadata": {},
   "source": [
    "2. First, we need to sample from posterior to get a posterior distribution. Then, we can use the posterior distribution to get new data and predictions"
   ]
  },
  {
   "cell_type": "markdown",
   "id": "a209849f-b10f-456b-9eff-251fd8ab764d",
   "metadata": {},
   "source": [
    "3. The missing values can be treated as latent variables which have a certain distribution. And, those missing values could be sampled from their posterior predictive distribution over and over. Additionally, the MCAR assumption cannot be violated or it will lead to a biased estimates."
   ]
  }
 ],
 "metadata": {
  "kernelspec": {
   "display_name": "Python 3 (ipykernel)",
   "language": "python",
   "name": "python3"
  },
  "language_info": {
   "codemirror_mode": {
    "name": "ipython",
    "version": 3
   },
   "file_extension": ".py",
   "mimetype": "text/x-python",
   "name": "python",
   "nbconvert_exporter": "python",
   "pygments_lexer": "ipython3",
   "version": "3.11.6"
  }
 },
 "nbformat": 4,
 "nbformat_minor": 5
}
