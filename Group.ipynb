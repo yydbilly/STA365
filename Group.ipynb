{
 "cells": [
  {
   "cell_type": "markdown",
   "id": "162bbc38-eb2e-453e-8552-0ed62068f04f",
   "metadata": {},
   "source": [
    "Here is the email list of my group member\n",
    "\n",
    "Group Member 1: yyd.yang@mail.utoronto.ca\n",
    "Group Member 2: mf.wang@mail.utoronto.ca\n",
    "Group Member 3: hao.ni@mail.utoronto.ca\n",
    "Group Member 4: dongli.chen@mail.utoronto.ca"
   ]
  }
 ],
 "metadata": {
  "kernelspec": {
   "display_name": "Python 3 (ipykernel)",
   "language": "python",
   "name": "python3"
  },
  "language_info": {
   "codemirror_mode": {
    "name": "ipython",
    "version": 3
   },
   "file_extension": ".py",
   "mimetype": "text/x-python",
   "name": "python",
   "nbconvert_exporter": "python",
   "pygments_lexer": "ipython3",
   "version": "3.11.6"
  }
 },
 "nbformat": 4,
 "nbformat_minor": 5
}
