{
 "cells": [
  {
   "cell_type": "code",
   "execution_count": 166,
   "id": "c68a7e26",
   "metadata": {},
   "outputs": [
    {
     "data": {
      "text/plain": [
       "[8.423873960093747, 8.038512976105054, 9.399329111253044]"
      ]
     },
     "execution_count": 166,
     "metadata": {},
     "output_type": "execute_result"
    }
   ],
   "source": [
    "from scipy import stats;import numpy as np\n",
    "\n",
    "# Set the seed\n",
    "np.random.seed(1005810605)\n",
    "\n",
    "# Set the true probability\n",
    "theta_A = 0.3\n",
    "theta_B = 0.5\n",
    "theta_C = 0.7\n",
    "\n",
    "# Success\n",
    "success_A = []\n",
    "success_B = []\n",
    "success_C = []\n",
    "\n",
    "# Posterior\n",
    "posterior_A = []\n",
    "posterior_B = []\n",
    "posterior_C = []\n",
    "\n",
    "alpha,beta = 1,1\n",
    "\n",
    "for i in range(1,101):\n",
    "    success_A.append(stats.bernoulli(p=0.3).rvs(size=1)[0])\n",
    "    posterior_A = stats.beta(a=sum(success_A)+alpha, b=i-sum(success_A)+beta).pdf(sum(success_A)/i)\n",
    "    \n",
    "for i in range(1,101):\n",
    "    success_B.append(stats.bernoulli(p=0.5).rvs(size=1)[0])\n",
    "    posterior_B = stats.beta(a=sum(success_B)+alpha, b=i-sum(success_B)+beta).pdf(sum(success_B)/i)\n",
    "    \n",
    "for i in range(1,101):\n",
    "    success_C.append(stats.bernoulli(p=0.7).rvs(size=1)[0])\n",
    "    posterior_C = stats.beta(a=sum(success_C)+alpha, b=i-sum(success_C)+beta).pdf(sum(success_C)/i)\n",
    "\n",
    "\n",
    "[posterior_A,posterior_B,posterior_C]"
   ]
  },
  {
   "cell_type": "markdown",
   "id": "ddc6e1c6",
   "metadata": {},
   "source": [
    "- I simulated the data by using bernoulli distribution with different thetas which are 0.3,0.5,and 0.7.\n",
    "- I updated the posterior after each round. Every time there is a success, I will increase the alpha and increase the n which is size of the data.\n",
    "- Based on the final results, I will choose theta C since it has the largest posterior which means there is a higher chance to get a success among these three options.\n",
    "- For the balance between exploration and exploitation, I think I should explore different options to gather more information initially. After a certain number of trials, I need to find the best options and exploit it for the rest of the decision-making process."
   ]
  },
  {
   "cell_type": "markdown",
   "id": "419b0124",
   "metadata": {},
   "source": [
    "# "
   ]
  }
 ],
 "metadata": {
  "kernelspec": {
   "display_name": "Python 3 (ipykernel)",
   "language": "python",
   "name": "python3"
  },
  "language_info": {
   "codemirror_mode": {
    "name": "ipython",
    "version": 3
   },
   "file_extension": ".py",
   "mimetype": "text/x-python",
   "name": "python",
   "nbconvert_exporter": "python",
   "pygments_lexer": "ipython3",
   "version": "3.11.6"
  }
 },
 "nbformat": 4,
 "nbformat_minor": 5
}
