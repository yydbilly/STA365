{
 "cells": [
  {
   "cell_type": "code",
   "execution_count": 25,
   "id": "c68a7e26",
   "metadata": {},
   "outputs": [
    {
     "data": {
      "text/plain": [
       "array([0])"
      ]
     },
     "execution_count": 25,
     "metadata": {},
     "output_type": "execute_result"
    }
   ],
   "source": [
    "from scipy import stats\n",
    "stats.binom(n=1,p=0.5).rvs(size=1)\n",
    "#stats.bernoulli(p=0.5).rvs(size=1)"
   ]
  },
  {
   "cell_type": "code",
   "execution_count": 42,
   "id": "23807188",
   "metadata": {},
   "outputs": [
    {
     "name": "stdout",
     "output_type": "stream",
     "text": [
      "I print when `i` is 0\n",
      "I print when `i` is 6\n"
     ]
    }
   ],
   "source": [
    "for i in range(10):\n",
    "    if stats.binom(n=1,p=0.5).rvs(size=1) == 1:\n",
    "        print('I print when `i` is', i)"
   ]
  },
  {
   "cell_type": "code",
   "execution_count": 58,
   "id": "d6942ef8",
   "metadata": {},
   "outputs": [
    {
     "data": {
      "text/plain": [
       "0.9999999999999996"
      ]
     },
     "execution_count": 58,
     "metadata": {},
     "output_type": "execute_result"
    }
   ],
   "source": [
    "alpha,beta,n,x=1,1,10,5 # I just made these numbers up\n",
    "beta_distribution = stats.beta(a=1,b=1)\n",
    "beta_distribution.pdf(0.5)"
   ]
  }
 ],
 "metadata": {
  "kernelspec": {
   "display_name": "Python 3 (ipykernel)",
   "language": "python",
   "name": "python3"
  },
  "language_info": {
   "codemirror_mode": {
    "name": "ipython",
    "version": 3
   },
   "file_extension": ".py",
   "mimetype": "text/x-python",
   "name": "python",
   "nbconvert_exporter": "python",
   "pygments_lexer": "ipython3",
   "version": "3.11.6"
  }
 },
 "nbformat": 4,
 "nbformat_minor": 5
}
